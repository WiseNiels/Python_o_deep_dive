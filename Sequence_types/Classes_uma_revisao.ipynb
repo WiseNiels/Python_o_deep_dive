{
 "cells": [
  {
   "cell_type": "code",
   "execution_count": 21,
   "metadata": {},
   "outputs": [],
   "source": [
    "class Person:\n",
    "\n",
    "    varial_de_classe = \"valor de classe\"\n",
    "\n",
    "    def __init__(self, name, idade):\n",
    "        self.name = name\n",
    "        self.age = idade\n",
    "\n",
    "    def speak(self):\n",
    "        print(f\"Hello, my name is {self.name} and I am {self.age} years old\")\n",
    "\n",
    "\n",
    "wise = Person(\"Wise\", 25)\n",
    "\n",
    "# wise.speak()"
   ]
  },
  {
   "cell_type": "code",
   "execution_count": 29,
   "metadata": {},
   "outputs": [],
   "source": [
    "class Person:\n",
    "\n",
    "    varial_de_classe = \"valor de classe\"\n",
    "\n",
    "    def __init__(self, name, idade):\n",
    "        self.name = name\n",
    "        self.__age = idade\n",
    "\n",
    "    def speak(self):\n",
    "        print(f\"Hello, my name is {self.name} and I am {self.age} years old\")\n",
    "    \n",
    "    @classmethod\n",
    "    def respirar(cls):\n",
    "        print(\"Estou respirando\")   "
   ]
  },
  {
   "cell_type": "code",
   "execution_count": 36,
   "metadata": {},
   "outputs": [],
   "source": [
    "class Person:\n",
    "\n",
    "    varial_de_classe = \"valor de classe\"\n",
    "\n",
    "    def __init__(self, name, idade):\n",
    "        self.name = name\n",
    "        self.__age = idade\n",
    "\n",
    "    def speak(self):\n",
    "        print(f\"Hello, my name is {self.name} and I am {self.age} years old\")\n",
    "    \n",
    "    @classmethod\n",
    "    def respirar(cls):\n",
    "        print(\"Estou respirando\")   "
   ]
  },
  {
   "cell_type": "code",
   "execution_count": null,
   "metadata": {},
   "outputs": [],
   "source": []
  },
  {
   "cell_type": "code",
   "execution_count": 31,
   "metadata": {},
   "outputs": [
    {
     "name": "stdout",
     "output_type": "stream",
     "text": [
      "Estou respirando\n"
     ]
    }
   ],
   "source": [
    "Person.respirar()"
   ]
  },
  {
   "cell_type": "code",
   "execution_count": 24,
   "metadata": {},
   "outputs": [
    {
     "data": {
      "text/plain": [
       "{'name': 'Wise', 'age': 25}"
      ]
     },
     "execution_count": 24,
     "metadata": {},
     "output_type": "execute_result"
    }
   ],
   "source": [
    "# wise\n",
    "\n",
    "wise = Person(\"Wise\", 25)\n",
    "wise.__dict__"
   ]
  },
  {
   "cell_type": "code",
   "execution_count": 27,
   "metadata": {},
   "outputs": [
    {
     "data": {
      "text/plain": [
       "(2214193317744, 2214184990864)"
      ]
     },
     "execution_count": 27,
     "metadata": {},
     "output_type": "execute_result"
    }
   ],
   "source": [
    "khalid = Person(\"Khalid\", 30)\n",
    "id(khalid), id(wise)\n",
    "\n",
    "# khalid.__dict__b\n",
    "# vars(khalid)"
   ]
  },
  {
   "cell_type": "code",
   "execution_count": 47,
   "metadata": {},
   "outputs": [],
   "source": [
    "class Person:\n",
    "\n",
    "    varial_de_classe = \"valor de classe\"\n",
    "\n",
    "    def __init__(self, name, idade):\n",
    "        self.name = name\n",
    "        self.__age = idade\n",
    "\n",
    "    @property\n",
    "    def age(self):\n",
    "        return self.__age\n",
    "    \n",
    "    @age.setter\n",
    "    def age(self, value):\n",
    "        if not isinstance(value, int):\n",
    "            raise ValueError(\"Age must be an integer\")\n",
    "        self.__age = value\n",
    "\n",
    "    def speak(self):\n",
    "        print(f\"Hello, my name is {self.name} and I am {self.age} years old\")\n",
    "    \n",
    "    @classmethod\n",
    "    def respirar(cls):\n",
    "        print(\"Estou respirando\")   "
   ]
  },
  {
   "cell_type": "code",
   "execution_count": 51,
   "metadata": {},
   "outputs": [],
   "source": [
    "class Person:\n",
    "\n",
    "    varial_de_classe = \"valor de classe\"\n",
    "\n",
    "    def __init__(self, name, idade):\n",
    "        self.name = name\n",
    "        self.__age = idade\n",
    "\n",
    "    @property\n",
    "    def age(self):\n",
    "        return self.__age\n",
    "    \n",
    "    @age.setter\n",
    "    def age(self, value):\n",
    "        if not isinstance(value, int):\n",
    "            raise ValueError(\"Age must be an integer\")\n",
    "        self.__age = value\n",
    "\n",
    "    def speak(self):\n",
    "        print(f\"Hello, my name is {self.name} and I am {self.age} years old\")\n",
    "    \n",
    "    @classmethod\n",
    "    def respirar(cls):\n",
    "        print(\"Estou respirando\")   "
   ]
  },
  {
   "cell_type": "code",
   "execution_count": 52,
   "metadata": {},
   "outputs": [],
   "source": [
    "def ola_mundo():\n",
    "    print(\"Olá Mundo\")  "
   ]
  },
  {
   "cell_type": "code",
   "execution_count": null,
   "metadata": {},
   "outputs": [],
   "source": []
  },
  {
   "cell_type": "code",
   "execution_count": null,
   "metadata": {},
   "outputs": [],
   "source": [
    "class Person:\n",
    "\n",
    "    varial_de_classe = \"valor de classe\"\n",
    "\n",
    "    # metodo especial\n",
    "    def __init__(self, name, idade):\n",
    "        self.name = name\n",
    "        self.__age = idade\n",
    "\n",
    "    \n",
    "\n",
    "\n",
    "    def get_age(self):\n",
    "        return self.__age\n",
    "\n",
    "    def set_age(self, value):\n",
    "        if not isinstance(value, int):\n",
    "            raise ValueError(\"Age must be an integer\")\n",
    "        self.__age = value\n",
    "\n",
    "    def speak(self):\n",
    "        print(f\"Hello, my name is {self.name} and I am {self.age} years old\")\n",
    "    \n",
    "    age = property(fget=get_age, fset=set_age)\n",
    "    @classmethod\n",
    "    def respirar(cls):\n",
    "        print(\"Estou respirando\")   \n",
    "\n",
    "    def __call__(self):\n",
    "        print(\"chamndo a partir do metodo __call__\")\n",
    "        print(f\"Hello, my name is {self.name} and I am {self.age} years old\")"
   ]
  },
  {
   "cell_type": "code",
   "execution_count": 69,
   "metadata": {},
   "outputs": [
    {
     "data": {
      "text/plain": [
       "{'name': 'Wise', '_Person__age': 3000}"
      ]
     },
     "execution_count": 69,
     "metadata": {},
     "output_type": "execute_result"
    }
   ],
   "source": [
    "wise = Person(\"Wise\", 25)   \n",
    "\n",
    "wise.age = 3000\n",
    "\n",
    "wise.age\n",
    "\n",
    "vars(wise)\n",
    "\n",
    "# wise()"
   ]
  },
  {
   "cell_type": "code",
   "execution_count": null,
   "metadata": {},
   "outputs": [],
   "source": []
  }
 ],
 "metadata": {
  "kernelspec": {
   "display_name": "Python 3",
   "language": "python",
   "name": "python3"
  },
  "language_info": {
   "codemirror_mode": {
    "name": "ipython",
    "version": 3
   },
   "file_extension": ".py",
   "mimetype": "text/x-python",
   "name": "python",
   "nbconvert_exporter": "python",
   "pygments_lexer": "ipython3",
   "version": "3.13.1"
  }
 },
 "nbformat": 4,
 "nbformat_minor": 2
}
